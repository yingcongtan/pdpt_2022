{
 "cells": [
  {
   "cell_type": "code",
   "execution_count": 2,
   "metadata": {},
   "outputs": [],
   "source": [
    "from src.util import calculate_truck_travel_cost, read_pdpt_pickle, read_route_solution_PDPT\n",
    "import pickle\n",
    "\n",
    "DATA_DIR = '/home/tan/Documents/GitHub/pdpt_2022'"
   ]
  },
  {
   "cell_type": "code",
   "execution_count": null,
   "metadata": {},
   "outputs": [],
   "source": []
  },
  {
   "cell_type": "code",
   "execution_count": 5,
   "metadata": {},
   "outputs": [],
   "source": [
    "\n",
    "\n",
    "def eval_pdotw_sol(dir, case_num, pdotw_sol):\n",
    "    ins = read_pdpt_pickle(case_num, dir+'/data', verbose = 0)\n",
    "    constant = ins['constant']\n",
    "    nodes = ins['nodes']\n",
    "    edges = ins['edges']\n",
    "    edge_shortest = ins['edge_shortest']\n",
    "    truck_yCycle_file, truck_used_file, truck_route_file, \\\n",
    "    cargo_route_file, S_sol_file, A_sol_file, D_sol_file, \\\n",
    "    Sb_sol_file, Ab_sol_file, Db_sol_file = read_route_solution_PDPT(pdotw_sol, verbose = 0)\n",
    "\n",
    "\n",
    "    truck_cost, travel_cost = \\\n",
    "    calculate_truck_travel_cost(constant, edge_shortest,\n",
    "    truck_used_file, truck_route_file)"
   ]
  },
  {
   "cell_type": "code",
   "execution_count": 7,
   "metadata": {},
   "outputs": [
    {
     "name": "stdout",
     "output_type": "stream",
     "text": [
      "==== CALCULATE COST CASE 1====\n",
      "\tThe truck_cost based on the PDPT solution: 630000.0\n",
      "\tThe travel cost based on the PDPT solution: 566550.0\n",
      "\tThe total cost: 1196550.0\n",
      "========\n",
      "\n",
      "==== CALCULATE COST CASE 2====\n",
      "\tThe truck_cost based on the PDPT solution: 420000.0\n",
      "\tThe travel cost based on the PDPT solution: 400750.0\n",
      "\tThe total cost: 820750.0\n",
      "========\n",
      "\n",
      "==== CALCULATE COST CASE 3====\n",
      "\tThe truck_cost based on the PDPT solution: 390000.0\n",
      "\tThe travel cost based on the PDPT solution: 387550.0\n",
      "\tThe total cost: 777550.0\n",
      "========\n",
      "\n",
      "==== CALCULATE COST CASE 4====\n",
      "\tThe truck_cost based on the PDPT solution: 480000.0\n",
      "\tThe travel cost based on the PDPT solution: 430000.0\n",
      "\tThe total cost: 910000.0\n",
      "========\n",
      "\n",
      "==== CALCULATE COST CASE 5====\n",
      "\tThe truck_cost based on the PDPT solution: 630000.0\n",
      "\tThe travel cost based on the PDPT solution: 578900.0\n",
      "\tThe total cost: 1208900.0\n",
      "========\n",
      "\n"
     ]
    }
   ],
   "source": [
    "def main_eval_pdotw_sol(case_num):\n",
    "\n",
    "    print(f'==== CALCULATE COST CASE {case_num}====')\n",
    "    pdotw_sol = DATA_DIR + f'/out/case{case_num}initSol.txt'\n",
    "    eval_pdotw_sol(DATA_DIR, case_num, pdotw_sol)\n",
    "    print('========\\n')\n",
    "\n",
    "for case_num in range(1,6,1):\n",
    "    main_eval_pdotw_sol(case_num)"
   ]
  },
  {
   "cell_type": "code",
   "execution_count": null,
   "metadata": {},
   "outputs": [],
   "source": []
  },
  {
   "cell_type": "code",
   "execution_count": null,
   "metadata": {},
   "outputs": [],
   "source": []
  },
  {
   "cell_type": "markdown",
   "metadata": {},
   "source": [
    "<h2>Best Insertion</h2>\n",
    "\n",
    "- **Sort** all trucks in descending order of remaining work hours"
   ]
  },
  {
   "cell_type": "code",
   "execution_count": null,
   "metadata": {},
   "outputs": [
    {
     "name": "stdout",
     "output_type": "stream",
     "text": [
      "0\n"
     ]
    }
   ],
   "source": [
    "# def read_inisol_all(case_num):\n",
    "#     filename = DATA_DIR + f'/out/case{case_num}initSol_all.pkl'\n",
    "\n",
    "#     with open(filename,'rb') as f:\n",
    "#         sol = pickle.load(f)\n",
    "\n",
    "#     x_, y_, S_, DT_, AT_, S_b, DT_b, AT_b = sol[1]\n",
    "#     # print(S_)\n",
    "\n",
    "#     filename = DATA_DIR + f'/out/case{case_num}initSol.txt'\n",
    "\n",
    "#     truck_yCycle_file, truck_used_file, truck_route_file, \\\n",
    "#     cargo_route_file, S_sol_file, A_sol_file, D_sol_file, \\\n",
    "#     Sb_sol_file, Ab_sol_file, Db_sol_file = read_route_solution_PDPT(filename, verbose = 0)\n",
    "\n",
    "#     # print(S_sol_file)\n",
    "#     temp_ = 0\n",
    "\n",
    "#     # for key in y_.keys():\n",
    "#     #     if 'T11' in key and y_[key]==1:\n",
    "#     #         print(key)\n",
    "#     #         print(y_[key])\n",
    "\n",
    "#     # for key in S_.keys():\n",
    "#     #     for key_ in x_.keys():\n",
    "#     #         node_, truck_ = key\n",
    "#     #         if 'T11' in key and ((node_ in key_) and (truck_ in key_)):\n",
    "#     #             print(f'x_[{key_}]: {x_[key_]}')\n",
    "#     #             print(f'S_[{key}]: {S_[key]}')\n",
    "\n",
    "#     # for key in x_.keys():\n",
    "#     #     if 'T16' in key and 'N22' in key:\n",
    "#     #         print(key)\n",
    "#     #         print(x_[key])\n",
    "\n",
    "        \n",
    "\n",
    "#     for key, value in S_.items():\n",
    "#         if key in S_sol_file.keys():\n",
    "#             # print(S_[key], S_sol_file[key])\n",
    "#             nothing_happen = 0\n",
    "#         else:\n",
    "#             if S_[key] > 0:\n",
    "#                 # print(f'S_sol_file[{key}]: {S_sol_file[key]}')\n",
    "#                 print(f'S_[{key}]: {S_[key]}')\n",
    "#             elif S_[key] ==0:\n",
    "\n",
    "#                 temp_ +=1\n",
    "\n",
    "#     # T11, N8\n",
    "\n",
    "#     x_n_n8 = {}\n",
    "#     for key in x_.keys():\n",
    "#         n1, n2, tru = key\n",
    "#         if tru == 'T11':\n",
    "#             if n2 == 'N8':\n",
    "#                 x_n_n8[(n1, n2, tru)] = x_[key]\n",
    "\n",
    "#     # print(truck_edge_leave_T11)\n",
    "\n",
    "\n",
    "#     print(sum([v for _, v in x_n_n8.items()]))\n",
    "#     # print(len(S_))\n",
    "#     # print(len(S_sol_file))\n",
    "\n",
    "#     # print(len(S_) + temp_)\n",
    "\n",
    "\n",
    "# case_num = 3\n",
    "# read_inisol_all(case_num)\n"
   ]
  },
  {
   "cell_type": "code",
   "execution_count": null,
   "metadata": {},
   "outputs": [],
   "source": []
  }
 ],
 "metadata": {
  "kernelspec": {
   "display_name": "Python 3.8.13 ('py38')",
   "language": "python",
   "name": "python3"
  },
  "language_info": {
   "codemirror_mode": {
    "name": "ipython",
    "version": 3
   },
   "file_extension": ".py",
   "mimetype": "text/x-python",
   "name": "python",
   "nbconvert_exporter": "python",
   "pygments_lexer": "ipython3",
   "version": "3.8.13"
  },
  "orig_nbformat": 4,
  "vscode": {
   "interpreter": {
    "hash": "c1990874c5d43c5ad255fb4eddb2910398111b9d51d69584c4b5152ab9b533bb"
   }
  }
 },
 "nbformat": 4,
 "nbformat_minor": 2
}
