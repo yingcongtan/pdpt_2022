{
 "cells": [
  {
   "cell_type": "code",
   "execution_count": 1,
   "metadata": {},
   "outputs": [],
   "source": [
    "import matplotlib.pyplot as plt\n",
    "import numpy as np\n",
    "from math import sqrt\n",
    "import os\n",
    "\n",
    "from src.util import generate_node_cargo_size_change, calculate_single_truck_deviation, ConsoleLogger\n",
    "from src.pdpt_ini_sol import solve_pdotw_mip\n",
    "import pickle\n",
    "from pathlib import Path\n",
    "\n",
    "dir_ = '/home/tan/Documents/GitHub/pdpt_2022/toy'"
   ]
  },
  {
   "cell_type": "code",
   "execution_count": null,
   "metadata": {},
   "outputs": [],
   "source": [
    "filename = dir_ + '/toy_initSol.txt'\n",
    "pdpt_ins = read_pdpt_pickle(filename, verbose = verbose-1) \n",
    "\n",
    "\n",
    "truck_yCycle_file, truck_used_file, truck_route_file, \\\n",
    "cargo_route_file, S_sol_file, A_sol_file, D_sol_file, \\\n",
    "Sb_sol_file, Ab_sol_file, Db_sol_file = read_route_solution_PDPT(filename, verbose = 0)"
   ]
  }
 ],
 "metadata": {
  "kernelspec": {
   "display_name": "Python 3 (ipykernel)",
   "language": "python",
   "name": "python3"
  },
  "language_info": {
   "codemirror_mode": {
    "name": "ipython",
    "version": 3
   },
   "file_extension": ".py",
   "mimetype": "text/x-python",
   "name": "python",
   "nbconvert_exporter": "python",
   "pygments_lexer": "ipython3",
   "version": "3.8.13"
  },
  "vscode": {
   "interpreter": {
    "hash": "c1990874c5d43c5ad255fb4eddb2910398111b9d51d69584c4b5152ab9b533bb"
   }
  }
 },
 "nbformat": 4,
 "nbformat_minor": 2
}
