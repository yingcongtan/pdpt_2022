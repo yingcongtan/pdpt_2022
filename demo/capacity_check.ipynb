{
 "cells": [
  {
   "cell_type": "code",
   "execution_count": 6,
   "metadata": {},
   "outputs": [
    {
     "name": "stdout",
     "output_type": "stream",
     "text": [
      "{'truck_fixed_cost': 30000.0, 'truck_running_cost': 50.0, 'cargo_reloading_cost': 0.5, 'node_fixed_time': 11.0, 'loading_variation_coefficient': 0.0094598}\n"
     ]
    }
   ],
   "source": [
    "import numpy as np\n",
    "import os, sys\n",
    "\n",
    "\n",
    "src_dir_ = '/home/tan/Documents/GitHub/pdpt_2022'\n",
    "sys.path.insert(1, src_dir_)\n",
    "\n",
    "dir_ = '/home/tan/Documents/GitHub/pdpt_2022/toy'\n",
    "from src.util import read_pickle\n",
    "from src.pdotw_mip import eval_pdotw_sol\n",
    "\n",
    "\n",
    "pdpt_ins = read_pickle(os.path.join(dir_, 'toy.pkl'))\n",
    "edge_shortest = pdpt_ins['edge_shortest']\n",
    "\n",
    "truck_list = pdpt_ins['truck']\n",
    "\n",
    "cargo_list = pdpt_ins['cargo']\n",
    "node_list = pdpt_ins['nodes']\n",
    "constant = pdpt_ins['constant']\n",
    "print(constant)\n",
    "\n",
    "pdotw_sol = read_pickle(os.path.join(dir_, 'toy_initSol.pkl'))"
   ]
  },
  {
   "cell_type": "code",
   "execution_count": 2,
   "metadata": {},
   "outputs": [
    {
     "name": "stdout",
     "output_type": "stream",
     "text": [
      "{'T1': ['C1', 'C2', 'C7'], 'T2': ['C3', 'C5'], 'T3': ['C4', 'C8']}\n"
     ]
    }
   ],
   "source": [
    "x_sol = pdotw_sol['MIP']['x_sol']\n",
    "S_sol = pdotw_sol['MIP']['S_sol']\n",
    "A_sol = pdotw_sol['MIP']['A_sol']\n",
    "D_sol = pdotw_sol['MIP']['D_sol']\n",
    "Ab_sol = pdotw_sol['MIP']['Ab_sol']\n",
    "Db_sol = pdotw_sol['MIP']['Db_sol']\n",
    "\n",
    "truck_route = pdotw_sol['route']['truck_route']\n",
    "cargo_route = pdotw_sol['route']['cargo_route']\n",
    "\n",
    "cargo_to_truck_assign = {}\n",
    "for truck_ in truck_list.keys():\n",
    "    cargo_to_truck_assign[truck_]=[]\n",
    "for cargo_ in cargo_list.keys():\n",
    "    if len(cargo_route[cargo_])>0:\n",
    "        cargo_to_truck_assign[cargo_route[cargo_][0][0]].append(cargo_)\n",
    "\n",
    "print(cargo_to_truck_assign)\n"
   ]
  },
  {
   "cell_type": "code",
   "execution_count": 8,
   "metadata": {},
   "outputs": [
    {
     "name": "stdout",
     "output_type": "stream",
     "text": [
      "T1 [0, 1, 10, 11, 13, 15, 7]\n",
      "C1, size [100, route [('T1', 0), ('T1', 1)]]\n",
      "C2, size [300, route [('T1', 10), ('T1', 11)]]\n",
      "C7, size [200, route [('T1', 13), ('T1', 15)]]\n",
      "[0] total cargo size [100], AT [0], fix_time [11], loading time [0.0], DT [0]\n",
      "[1] total cargo size [0], AT [158], fix_time [11], loading time [-0.94598], DT [170]\n",
      "[10] total cargo size [300], AT [260], fix_time [11], loading time [2.83794], DT [274]\n",
      "[11] total cargo size [0], AT [329], fix_time [11], loading time [-2.83794], DT [343]\n",
      "[13] total cargo size [200], AT [518], fix_time [11], loading time [1.89196], DT [531]\n",
      "[15] total cargo size [0], AT [658], fix_time [11], loading time [-1.89196], DT [671]\n",
      "[7] total cargo size [0], AT [989], fix_time [11], loading time [0.0], DT [1000]\n"
     ]
    }
   ],
   "source": [
    "truck_ = 'T1'\n",
    "\n",
    "print('T1', truck_route[truck_])\n",
    "\n",
    "for cargo_ in cargo_to_truck_assign[truck_]:\n",
    "    print(f'{cargo_}, size [{cargo_list[cargo_][0]}, route {cargo_route[cargo_]}]')\n",
    "\n",
    "\n",
    "# 'node_fixed_time': 11.0, 'loading_variation_coefficient': 0.0094598\n",
    "\n",
    "for i in range(len(truck_route[truck_])):\n",
    "    node_curr = truck_route[truck_][i]\n",
    "    if i>0:\n",
    "        node_prev = truck_route[truck_][i-1]\n",
    "    else:\n",
    "        node_prev = None\n",
    "    cargo_size_change = S_sol[(node_curr, truck_)] - S_sol[(node_prev, truck_)] if node_prev is not None else 0\n",
    "    print(f'[{node_curr}] total cargo size [{S_sol[(node_curr, truck_)]}], AT [{A_sol[(node_curr,truck_)]}], fix_time [11], loading time [{cargo_size_change*0.0094598}], DT [{D_sol[(node_curr,truck_)]}]')"
   ]
  },
  {
   "cell_type": "code",
   "execution_count": 4,
   "metadata": {},
   "outputs": [],
   "source": [
    "# truck_ = 'T2'\n",
    "# print('T2', truck_route['T2'])\n",
    "\n",
    "# print('C3', cargo_route['C3'])\n",
    "# print('C5', cargo_route['C5'])\n",
    "\n",
    "# for node_ in truck_route['T2']:\n",
    "#     print(f'Node {[node_]} ', S_sol[(node_,'T2')])"
   ]
  },
  {
   "cell_type": "code",
   "execution_count": null,
   "metadata": {},
   "outputs": [],
   "source": []
  }
 ],
 "metadata": {
  "kernelspec": {
   "display_name": "Python 3.8.13 ('py38')",
   "language": "python",
   "name": "python3"
  },
  "language_info": {
   "codemirror_mode": {
    "name": "ipython",
    "version": 3
   },
   "file_extension": ".py",
   "mimetype": "text/x-python",
   "name": "python",
   "nbconvert_exporter": "python",
   "pygments_lexer": "ipython3",
   "version": "3.8.13"
  },
  "orig_nbformat": 4,
  "vscode": {
   "interpreter": {
    "hash": "c1990874c5d43c5ad255fb4eddb2910398111b9d51d69584c4b5152ab9b533bb"
   }
  }
 },
 "nbformat": 4,
 "nbformat_minor": 2
}
