{
 "cells": [
  {
   "cell_type": "code",
   "execution_count": 11,
   "metadata": {},
   "outputs": [],
   "source": [
    "import os, sys, random, time, pickle\n",
    "src_dir_ = '/home/tan/Documents/GitHub/pdpt_2022/src'\n",
    "sys.path.insert(1, src_dir_)\n",
    "\n",
    "from gurobipy import Model, quicksum, GRB\n",
    "import numpy as np\n",
    "from util import generate_node_cargo_size_change, read_pickle, group_cycle_truck, manual_stop\n",
    "from pathlib import Path\n",
    "from tvopdpt import tvopdpt_milp_gurobi\n",
    "dir_ = '/home/tan/Documents/GitHub/pdpt_2022/'\n",
    "num_ins = 10"
   ]
  },
  {
   "cell_type": "code",
   "execution_count": 12,
   "metadata": {},
   "outputs": [
    {
     "name": "stdout",
     "output_type": "stream",
     "text": [
      "===== START team orienteering pdpt\n",
      "      /home/tan/Documents/GitHub/pdpt_2022/data/case1/case1_truck2_ins1.pkl\n",
      "total num. of cargo 16\n"
     ]
    }
   ],
   "source": [
    "case_num, ins_idx, num_trucks = 1, 0, 2\n",
    "pdpt_ins_filename = os.path.join(dir_, f'data/case{case_num}', f'case{case_num}_truck{num_trucks}_ins{ins_idx+1}.pkl')\n",
    "print(f'===== START team orienteering pdpt\\n      {pdpt_ins_filename}')\n",
    "pdpt_ins = read_pickle(pdpt_ins_filename)\n",
    "\n",
    "\n",
    "# load data from ins\n",
    "selected_truck = pdpt_ins['truck']\n",
    "selected_cargo = pdpt_ins['cargo']\n",
    "selected_node = pdpt_ins['nodes']\n",
    "selected_edge = pdpt_ins['edge_shortest']    \n",
    "# edges = ins['edges']\n",
    "# nodes = ins['nodes']\n",
    "constant = pdpt_ins['constant']\n",
    "node_cargo_size_change = pdpt_ins['node_cargo_size_change']\n",
    "edge_shortest = pdpt_ins['edge_shortest']\n",
    "# path_shortest = ins['path_shortest']\n",
    "single_truck_deviation = pdpt_ins['single_truck_deviation']\n",
    "\n",
    "print(f'total num. of cargo {len(selected_cargo.keys())}')"
   ]
  },
  {
   "cell_type": "code",
   "execution_count": 13,
   "metadata": {},
   "outputs": [
    {
     "name": "stdout",
     "output_type": "stream",
     "text": [
      "dict_keys(['obj_val_MP', 'runtime_MP', 'x_sol', 'z_sol', 'u_sol', 'w_sol', 'S_sol', 'D_sol', 'A_sol', 'Sb_sol', 'Db_sol', 'Ab_sol'])\n"
     ]
    }
   ],
   "source": [
    "tvopdpt_res_filename = os.path.join(dir_, f'data/case{case_num}', f'case{case_num}_truck{num_trucks}_ins{ins_idx+1}_res.pkl')\n",
    "tvopdpt_res = read_pickle(tvopdpt_res_filename)\n",
    "\n",
    "print(tvopdpt_res.keys())"
   ]
  },
  {
   "cell_type": "code",
   "execution_count": 14,
   "metadata": {},
   "outputs": [
    {
     "name": "stdout",
     "output_type": "stream",
     "text": [
      "obj 16.0\n",
      "runtime_MP 0.5082769393920898\n"
     ]
    }
   ],
   "source": [
    "print('obj', tvopdpt_res['obj_val_MP'])\n",
    "print('runtime_MP', tvopdpt_res['runtime_MP'])\n",
    "z_sol = tvopdpt_res['z_sol']"
   ]
  },
  {
   "cell_type": "code",
   "execution_count": 15,
   "metadata": {},
   "outputs": [
    {
     "name": "stdout",
     "output_type": "stream",
     "text": [
      "C44, on dest by T1 [0], by T2 [{1}]\n",
      "C89, on dest by T1 [0], by T2 [{1}]\n",
      "C108, on dest by T1 [0], by T2 [{1}]\n",
      "C128, on dest by T1 [0], by T2 [{1}]\n",
      "C214, on dest by T1 [0], by T2 [{1}]\n",
      "C243, on dest by T1 [0], by T2 [{1}]\n",
      "C1, on dest by T1 [1], by T2 [{0}]\n",
      "C27, on dest by T1 [1], by T2 [{0}]\n",
      "C52, on dest by T1 [1], by T2 [{0}]\n",
      "C57, on dest by T1 [1], by T2 [{0}]\n",
      "C62, on dest by T1 [0], by T2 [{1}]\n",
      "C75, on dest by T1 [0], by T2 [{1}]\n",
      "C179, on dest by T1 [0], by T2 [{1}]\n",
      "C182, on dest by T1 [0], by T2 [{1}]\n",
      "C189, on dest by T1 [1], by T2 [{0}]\n",
      "C211, on dest by T1 [1], by T2 [{0}]\n"
     ]
    }
   ],
   "source": [
    "truck1, truck2 = selected_truck.keys()\n",
    "for cargo_key, cargo_value in selected_cargo.items():\n",
    "    cargo_dest = cargo_value[-1]\n",
    "    print(f'{cargo_key}, on dest by T1 [{sum([z_sol[(node, cargo_dest, truck1, cargo_key)]for node in selected_node if node != cargo_dest])}], by T2 {[{sum([z_sol[(node, cargo_dest, truck2, cargo_key)]for node in selected_node if node != cargo_dest])}]}')"
   ]
  },
  {
   "cell_type": "code",
   "execution_count": 16,
   "metadata": {},
   "outputs": [],
   "source": [
    "cargo_key = 'C89'\n",
    "cargo_origin, cargo_dest = selected_cargo[cargo_key][-2:]\n"
   ]
  },
  {
   "cell_type": "code",
   "execution_count": null,
   "metadata": {},
   "outputs": [],
   "source": []
  }
 ],
 "metadata": {
  "kernelspec": {
   "display_name": "Python 3.8.13 ('py38')",
   "language": "python",
   "name": "python3"
  },
  "language_info": {
   "codemirror_mode": {
    "name": "ipython",
    "version": 3
   },
   "file_extension": ".py",
   "mimetype": "text/x-python",
   "name": "python",
   "nbconvert_exporter": "python",
   "pygments_lexer": "ipython3",
   "version": "3.8.13"
  },
  "orig_nbformat": 4,
  "vscode": {
   "interpreter": {
    "hash": "c1990874c5d43c5ad255fb4eddb2910398111b9d51d69584c4b5152ab9b533bb"
   }
  }
 },
 "nbformat": 4,
 "nbformat_minor": 2
}
