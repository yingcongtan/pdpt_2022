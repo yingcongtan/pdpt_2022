{
 "cells": [
  {
   "cell_type": "markdown",
   "metadata": {},
   "source": [
    "<h2>Solution Evaluation</h2>\n",
    "\n",
    "This notebook contains some WIP work on solution evaluation.\n",
    "<h3>One universal way to store solution from PDOTW, best_insertion and rasd</h3>\n",
    "<h3>Given a solution, compute the cost</h3>"
   ]
  },
  {
   "cell_type": "code",
   "execution_count": 4,
   "metadata": {},
   "outputs": [],
   "source": [
    "import pickle\n",
    "import os, sys\n",
    "src_dir_ = '/home/tan/Documents/GitHub/pdpt_2022'\n",
    "sys.path.insert(1, src_dir_)\n",
    "\n",
    "from src.util import read_pickle\n",
    "from src.pdpt_route_schedule import MP_to_SP, calculate_SP_cost\n",
    "\n",
    "\n",
    "DATA_DIR = \"/home/tan/Documents/GitHub/pdpt_2022/toy\"\n",
    "\n",
    "\n",
    "\n"
   ]
  },
  {
   "cell_type": "markdown",
   "metadata": {},
   "source": [
    "<hr style=\"height:10px;\">\n",
    "<hr style=\"height:10px;\">\n",
    "\n",
    "<h4>Understand how Jason store data</h4>"
   ]
  },
  {
   "cell_type": "code",
   "execution_count": null,
   "metadata": {},
   "outputs": [],
   "source": [
    "def understand_pdotw_sol(dir_):\n",
    "\n",
    "    ini_sol_picke_filename = os.path.join(dir_, 'toy_initSol_all.pkl')\n",
    "    ini_sol_pickle = read_pickle(ini_sol_picke_filename)\n",
    "    ((created_truck_yCycle_total, created_truck_nCycle_total, created_truck_all_total, node_list_truck_hubs_total),\n",
    "    (x_sol_total, y_sol_total, S_sol_total, D_sol_total, A_sol_total, Sb_sol_total, Db_sol_total, Ab_sol_total),\n",
    "    (cost_cargo_size_value_total,  cost_cargo_number_value_total, cost_travel_value_total, cost_deviation_value_total),\n",
    "    (truck_used_total, truck_route, cargo_delivered_total, cargo_undelivered_total, lb_truck, cargo_route, cargo_truck_total_all, cargo_in_truck_total)) = ini_sol_pickle\n",
    "\n",
    "\n",
    "    ini_sol_txt_filename = os.path.join(dir_, 'toyinitSol.txt')\n",
    "    truck_yCycle_file, truck_used_file, truck_route_file, \\\n",
    "    cargo_route_file, S_sol_file, A_sol_file, D_sol_file, \\\n",
    "    Sb_sol_file, Ab_sol_file, Db_sol_file = read_route_solution_PDPT(ini_sol_txt_filename)\n",
    "\n",
    "    res = {'truck_yCycle': list(created_truck_yCycle_total.keys()),\n",
    "           'used_truck': truck_used_total,\n",
    "           'truck_route': truck_route,\n",
    "           'cargo_route': cargo_route,\n",
    "           'x_sol': x_sol_total,\n",
    "           'y_sol': y_sol_total,\n",
    "           'S_sol': S_sol_total,\n",
    "           'D_sol': D_sol_total,\n",
    "           'A_sol': A_sol_total,\n",
    "           'Sb_sol': Sb_sol_total,\n",
    "           'Db_sol': Db_sol_total,\n",
    "           'Ab_sol': Ab_sol_total,\n",
    "          }\n",
    "\n",
    "    filename = os.path.join(dir_, 'toy_inisol_clean.pkl')\n",
    "    with open(filename, 'ab') as pickle_file:\n",
    "        pickle.dump(res, pickle_file)\n",
    "\n",
    "# understand_pdotw_sol(DATA_DIR)"
   ]
  },
  {
   "cell_type": "markdown",
   "metadata": {},
   "source": [
    "<h4>Solution: save necessary information in pkl, ignore Jason's functions for storing and reading from txt file</h4>\n",
    "\n",
    "\n",
    "\n"
   ]
  },
  {
   "cell_type": "markdown",
   "metadata": {},
   "source": [
    "<h4>Sanity check to see if the solutino saved in the format still produces the same cost </h4>"
   ]
  },
  {
   "cell_type": "code",
   "execution_count": null,
   "metadata": {},
   "outputs": [],
   "source": [
    "def test_new_inisol_formate(dir_):\n",
    "\n",
    "    def evaluate_sol_new_format(ins, dir_):\n",
    "        ini_sol_filename = os.path.join(dir_, 'toy_inisol_clean.pkl')\n",
    "        ini_sol = read_pickle(ini_sol_filename)\n",
    "\n",
    "        truck_cost, travel_cost = eval_pdotw_sol(ins['constant'], ins['edge_shortest'],\n",
    "                                                              ini_sol['used_truck'], ini_sol['truck_route'])\n",
    "        print(truck_cost, travel_cost)\n",
    "\n",
    "    def evaluate_sol_old_format(ins, dir_):\n",
    "        ini_sol_txt_filename = os.path.join(dir_, 'toyinitSol.txt')\n",
    "        truck_yCycle_file, truck_used_file, truck_route_file, \\\n",
    "        cargo_route_file, S_sol_file, A_sol_file, D_sol_file, \\\n",
    "        Sb_sol_file, Ab_sol_file, Db_sol_file = read_route_solution_PDPT(ini_sol_txt_filename)\n",
    "\n",
    "        truck_cost, travel_cost = eval_pdotw_sol(ins['constant'], ins['edge_shortest'],\n",
    "                                                              truck_used_file, truck_route_file)\n",
    "\n",
    "        print(truck_cost, travel_cost)\n",
    "\n",
    "\n",
    "    toy_ins_filename = os.path.pdotw_solmat for Ini Sol')\n",
    "    evaluate_sol_new_format(toy_ins, dir_)\n",
    "\n",
    "# test_new_inisol_formate(DATA_DIR)\n",
    "\n",
    "\n",
    "# ====== New data format for Ini Sol\n",
    "# 90000.0 1281.5"
   ]
  },
  {
   "cell_type": "markdown",
   "metadata": {},
   "source": [
    "<hr style=\"height:10px;\">\n",
    "<hr style=\"height:10px;\">"
   ]
  },
  {
   "cell_type": "markdown",
   "metadata": {},
   "source": [
    "<h4>Understand two different cost evaluation functions in Jason's code</h4>\n",
    "\n",
    "Understand the differences between *Compute_cost_onTruck()* and *calculate_SP_cost()* "
   ]
  },
  {
   "cell_type": "code",
   "execution_count": null,
   "metadata": {},
   "outputs": [],
   "source": [
    "def eval_pdotw_sol_using_cpo_sp_cost_fun(dir_):\n",
    "\n",
    "    ini_sol_filename = dir_ + '/toy_initSol.pkl'\n",
    "    ini_sol_res = read_pickle(ini_sol_filename)\n",
    "\n",
    "    pdpt_ins_filename = dir_ + '/toy.pkl'\n",
    "    pdpt_ins = read_pickle(pdpt_ins_filename)\n",
    "    constant = pdpt_ins['constant']\n",
    "    cargo = pdpt_ins['cargo']\n",
    "    truck = pdpt_ins['truck']\n",
    "\n",
    "    edge_shortest = pdpt_ins['edge_shortest']\n",
    "\n",
    "\n",
    "    truck_route = ini_sol_res['truck_route']\n",
    "    print(truck_route)\n",
    "    truck_used = ini_sol_res['used_truck']\n",
    "    cargo_route = ini_sol_res['cargo_route']\n",
    "    \n",
    "    cargo_in, cargo_out, transfer_nodes = [], [], []\n",
    "    selected_cargo = {}\n",
    "    for cargo_key, cargo_value in cargo.items():\n",
    "        if len(cargo_route[cargo_key])>0:\n",
    "            selected_cargo[cargo_key] = cargo_value\n",
    "\n",
    "    selected_node = []\n",
    "    for cargo_value in selected_cargo.values():\n",
    "        if cargo_value[3] not in selected_node:\n",
    "            selected_node.append(cargo_value[3])\n",
    "        if cargo_value[4] not in selected_node:\n",
    "            selected_node.append(cargo_value[4])\n",
    "    for truck_key in truck_used:\n",
    "        truck_value = truck[truck_key]\n",
    "        if truck_value[0] not in selected_node:\n",
    "            selected_node.append(truck_value[0])\n",
    "        if truck_value[1] not in selected_node:\n",
    "            selected_node.append(truck_value[1])\n",
    "    selected_edge = {}\n",
    "    edges_ = list(set([(i,j) for i in selected_node for j in selected_node]))\n",
    "\n",
    "    for i,j in edges_:\n",
    "        selected_edge[(i,j)] = edge_shortest[(i,j)]\n",
    "\n",
    "    # print(selected_edge)\n",
    "\n",
    "    truck_cost, travel_cost, transfer_cost = \\\n",
    "    calculate_SP_cost(constant, selected_cargo, selected_edge, \n",
    "                      truck_used, truck_route, \n",
    "                      cargo_in, cargo_out, transfer_nodes)\n",
    "\n",
    "    print(f'====== cost of pdpt solution')\n",
    "    print(f' truck_cost {truck_cost}')\n",
    "    print(f' travel_cost {travel_cost}')\n",
    "    print(f' transfer_cost {transfer_cost}')\n",
    "\n",
    "# eval_pdotw_sol_using_cpo_sp_cost_fun(DATA_DIR)"
   ]
  },
  {
   "cell_type": "markdown",
   "metadata": {},
   "source": [
    "<h4>Conclusion: *Compute_cost_onTruck()* is equivalent to *calculate_SP_cost()* by letting cargo_in, cargo_out and transfer_nodes be empty lists.</h4>\n",
    "\n",
    "<hr style=\"height:10px;\">\n",
    "<hr style=\"height:10px;\">"
   ]
  },
  {
   "cell_type": "markdown",
   "metadata": {},
   "source": [
    "<h4>Investigate how to convert pdotw solutions to pdpt solutions.</h4>\n",
    "\n",
    "pdotw solution: x_sol, z_sol, y_sol, S_sol, D_sol, A_sol, Sb_sol, Db_sol, Ab_sol<br>\n",
    "pdpt solutions: MP: x_sol, s_sol, z_sol, y_sol, u_sol, D_sol, SP: g_sol, h_sol, D_sol\n",
    "\n",
    "\n",
    "INCOMPLETE\n",
    "\n",
    "Want to study this, because we need to embed some of the pdotw solutions into the MP and SP formulation when using RASD."
   ]
  },
  {
   "cell_type": "code",
   "execution_count": null,
   "metadata": {},
   "outputs": [],
   "source": [
    "def eval_pdotw_sol_using_CP_cost_function(dir_):\n",
    "\n",
    "    class PDOTW_Sol():\n",
    "        def __init__(self, res):\n",
    "            self.truck_yCycle = res['truck_yCycle']\n",
    "            self.used_truck = res['used_truck']\n",
    "            self.truck_route = res['truck_route']\n",
    "            self.cargo_route = res['cargo_route']\n",
    "            self.x_sol = res['x_sol']\n",
    "            self.y_sol = res['y_sol']\n",
    "            self.S_sol = res['S_sol']\n",
    "            self.D_sol = res['D_sol']\n",
    "            self.A_sol = res['A_sol']\n",
    "            self.Sb_sol = res['Sb_sol']\n",
    "            self.Db_sol = res['Db_sol']\n",
    "            self.Ab_sol = res['Ab_sol']\n",
    "\n",
    "    ini_sol_res_filename = os.path.joint(dir_, 'toy_iniSol.pkl')\n",
    "    ini_sol_res = read_pickle(ini_sol_res_filename)\n",
    "\n",
    "    pdpt_ins_filename = dir_ + '/toy.pkl'\n",
    "    pdpt_ins = read_pickle(pdpt_ins_filename)\n",
    "    constant = pdpt_ins['constant']\n",
    "    cargo = pdpt_ins['cargo']\n",
    "    edge_shortest = pdpt_ins['edge_shortest']\n",
    "\n",
    "    truck_nodes = ini_sol_res['truck_route']\n",
    "    truck_MP = ini_sol_res['used_truck']\n",
    "    cargo_route = ini_sol_res['cargo_route']\n",
    "    selected_cargo = {}\n",
    "    for cargo_key, cargo_value in cargo.items():\n",
    "        if len(cargo_route[cargo_key])>0:\n",
    "            selected_cargo[cargo_key] = cargo_value\n",
    "\n",
    "    selected_node = []\n",
    "    for cargo_value in selected_cargo.values():\n",
    "        if cargo_value[3] not in selected_node:\n",
    "            selected_node.append(cargo_value[3])\n",
    "        if cargo_value[4] not in selected_node:\n",
    "            selected_node.append(cargo_value[4])\n",
    "    for truck_value in truck_MP.values():\n",
    "        if truck_value[0] not in selected_node:\n",
    "            selected_node.append(truck_value[0])\n",
    "        if truck_value[1] not in selected_node:\n",
    "            selected_node.append(truck_value[1])\n",
    "    selected_edge = {}\n",
    "    edges_ = list(set([(i,j) for i in selected_node for j in selected_node]))\n",
    "\n",
    "    for i,j in edges_:\n",
    "        selected_edge[(i,j)] = int(edge_shortest[(i,j)])\n",
    "\n",
    "\n",
    "    truck_cost, travel_cost, transfer_cost = \\\n",
    "    calculate_SP_cost(constant, selected_cargo, selected_edge, \n",
    "        truck_MP, truck_nodes, \n",
    "        [], [], [])"
   ]
  },
  {
   "cell_type": "code",
   "execution_count": null,
   "metadata": {},
   "outputs": [],
   "source": [
    "def convert_pdotw_sol_to_pdpt_sol(dir_): \n",
    "    ini_sol_res_filename = os.path.join(dir_, 'toy_initSol.pkl')\n",
    "    pdotw_sol = read_pickle(ini_sol_res_filename)\n",
    "\n",
    "    improve_sol_res_filename = os.path.join(dir_, 'toy_improve.pkl')\n",
    "    pdpt_sol = read_pickle(improve_sol_res_filename)\n",
    "\n",
    "    print('PDOTW sol')\n",
    "    print(pdotw_sol.keys())\n",
    "\n",
    "    print('PDPT_sol_MP')\n",
    "    print(pdpt_sol['MP'].keys())\n",
    "\n",
    "    print('PDPT_sol_SP')\n",
    "    print(pdpt_sol['SP'].keys())\n",
    "\n",
    "    print('PDPT_sol_route')\n",
    "    print(pdpt_sol['route'].keys())"
   ]
  },
  {
   "cell_type": "code",
   "execution_count": null,
   "metadata": {},
   "outputs": [],
   "source": [
    "convert_pdotw_sol_to_pdpt_sol(DATA_DIR)"
   ]
  },
  {
   "cell_type": "markdown",
   "metadata": {},
   "source": [
    "<hr style=\"height:10px;\">\n",
    "<hr style=\"height:10px;\">"
   ]
  },
  {
   "cell_type": "markdown",
   "metadata": {},
   "source": [
    "<h4>Update solution after RASD</h4>"
   ]
  },
  {
   "cell_type": "code",
   "execution_count": null,
   "metadata": {},
   "outputs": [],
   "source": [
    "from pdpt_rasd import select_subroutes, pdpt_route_schedule_decomposition\n"
   ]
  },
  {
   "cell_type": "code",
   "execution_count": null,
   "metadata": {
    "scrolled": false
   },
   "outputs": [],
   "source": [
    "def pdpt_rasd(dir_, verbose = 0):\n",
    "\n",
    "    pdpt_ins = read_pickle(dir_ +'/toy.pkl', verbose = verbose-1) \n",
    "\n",
    "    pdpt_ins_ = read_pickle( '/home/tan/Documents/GitHub/pdpt_2022/data/case1.pkl', verbose = verbose-1)\n",
    "\n",
    "    print(pdpt_ins['edge_shortest'])\n",
    "    print(pdpt_ins_['edge_shortest'])\n",
    "\n",
    "\n",
    "#     ini_sol_res_filename = dir_ + '/toy_initSol.pkl'\n",
    "#     ini_sol_res = read_pickle(ini_sol_res_filename)\n",
    "\n",
    "#     cargo_route = ini_sol_res['cargo_route']\n",
    "\n",
    "\n",
    "#     subroutes = select_subroutes(pdpt_ins, cargo_route, verbose)\n",
    "\n",
    "#     MP_sol, SP_sol, route_sol, costs = pdpt_route_schedule_decomposition(dir_+'/toy', pdpt_ins, ini_sol_res, subroutes, verbose = 0)\n",
    "\n",
    "#     res = {'MP': {'x_sol': MP_sol[0],\n",
    "#                   'x_sol': MP_sol[1],\n",
    "#                   'z_sol': MP_sol[2],\n",
    "#                   'y_sol': MP_sol[3],\n",
    "#                   'u_sol': MP_sol[4],\n",
    "#                   'D_sol': MP_sol[5],\n",
    "#                  },\n",
    "#             'SP':{'g_sol': SP_sol[0],\n",
    "#                   'h_sol': SP_sol[1],\n",
    "#                   'D_sol': SP_sol[-1],\n",
    "#                  },\n",
    "#             'route':{'truck_route': route_sol[0],\n",
    "#                      'cargo_route': route_sol[-1],\n",
    "#                     },\n",
    "#             'cost':{'truck_cost': costs[0],\n",
    "#                     'travel_cost': costs[1],\n",
    "#                     'transfer_cost': costs[2],}\n",
    "#             }\n",
    "    \n",
    "#     res_filename = dir_ + '/toyimprove.pkl'\n",
    "#     with open(res_filename, 'wb') as pickle_file:\n",
    "#         pickle.dump(res, pickle_file)\n",
    "\n",
    "pdpt_rasd(DATA_DIR)"
   ]
  },
  {
   "cell_type": "code",
   "execution_count": null,
   "metadata": {},
   "outputs": [],
   "source": []
  },
  {
   "cell_type": "code",
   "execution_count": 2,
   "metadata": {},
   "outputs": [
    {
     "ename": "ModuleNotFoundError",
     "evalue": "No module named 'util'",
     "output_type": "error",
     "traceback": [
      "\u001b[0;31m---------------------------------------------------------------------------\u001b[0m",
      "\u001b[0;31mModuleNotFoundError\u001b[0m                       Traceback (most recent call last)",
      "\u001b[1;32m/home/tan/Documents/GitHub/pdpt_2022/notebook/WIP_eval_solution.ipynb Cell 21\u001b[0m in \u001b[0;36m<cell line: 1>\u001b[0;34m()\u001b[0m\n\u001b[0;32m----> <a href='vscode-notebook-cell:/home/tan/Documents/GitHub/pdpt_2022/notebook/WIP_eval_solution.ipynb#X26sZmlsZQ%3D%3D?line=0'>1</a>\u001b[0m \u001b[39mfrom\u001b[39;00m \u001b[39mutil\u001b[39;00m \u001b[39mimport\u001b[39;00m manual_stop\n\u001b[1;32m      <a href='vscode-notebook-cell:/home/tan/Documents/GitHub/pdpt_2022/notebook/WIP_eval_solution.ipynb#X26sZmlsZQ%3D%3D?line=3'>4</a>\u001b[0m \u001b[39mdef\u001b[39;00m \u001b[39mcheck_ini_sol\u001b[39m(dir_):\n\u001b[1;32m      <a href='vscode-notebook-cell:/home/tan/Documents/GitHub/pdpt_2022/notebook/WIP_eval_solution.ipynb#X26sZmlsZQ%3D%3D?line=5'>6</a>\u001b[0m     pdpt_ins_filename \u001b[39m=\u001b[39m os\u001b[39m.\u001b[39mpath\u001b[39m.\u001b[39mjoin(dir_, \u001b[39m'\u001b[39m\u001b[39mtoy.pkl\u001b[39m\u001b[39m'\u001b[39m)\n",
      "\u001b[0;31mModuleNotFoundError\u001b[0m: No module named 'util'"
     ]
    }
   ],
   "source": [
    "from util import manual_stop\n",
    "\n",
    "\n",
    "def check_ini_sol(dir_):\n",
    "\n",
    "    pdpt_ins_filename = os.path.join(dir_, 'toy.pkl')\n",
    "    pdpt_ins = read_pickle(pdpt_ins_filename)\n",
    "    edge_shortest = pdpt_ins['edge_shortest']\n",
    "    node_list = pdpt_ins['nodes']\n",
    "    truck_list = pdpt_ins['truck']\n",
    "\n",
    "    ini_sol_res_filename = os.path.join(dir_, 'toy_initSol.pkl')\n",
    "    ini_sol_res = read_pickle(ini_sol_res_filename)\n",
    "\n",
    "    cargo_route = ini_sol_res['route']['cargo_route']\n",
    "    for cargo_key, c_route in cargo_route.items():\n",
    "        print(f'[{cargo_key}]: {c_route}')\n",
    "\n",
    "    print('========================\\n')\n",
    "    truck_route = ini_sol_res['route']['truck_route']\n",
    "    for truck_key, t_route in truck_route.items():\n",
    "        print(f'[{truck_key}]: {t_route}')\n",
    "\n",
    "    # Index k for truck is pre-defined\n",
    "    #x_sol: x^k_{ij}, if truck k visit edge (i,j) or not\n",
    "    #y_sol: y^k_r, if parcel r is carried by truck k\n",
    "    #s_sol: x^k_i, total size of cargos on truck k at node i\n",
    "    #D_sol: D^k_i, depature time of truck k at node i\n",
    "    #A_sol: A^k_i, arrival time of truck k at node i\n",
    "    \n",
    "    x_sol = ini_sol_res['MIP']['x_sol']\n",
    "\n",
    "\n",
    "\n",
    "    truck_key = 'T2'\n",
    "    n_curr = truck_list[truck_key][0]\n",
    "    n_next = 10000\n",
    "    # print(temp)\n",
    "    # print(temp in edge_shortest.keys())\n",
    "    # print(x_sol.keys())\n",
    "    # print( (n_curr, n_curr, truck_key) in x_sol.keys())\n",
    "    while n_next != truck_list[truck_key][1]:\n",
    "        for n_next in node_list:\n",
    "            if (n_curr, n_next) in edge_shortest.keys():\n",
    "                print(f'{(n_curr, n_next)} in edge_shortest.keys()')\n",
    "                if (n_curr, n_next, truck_key) in x_sol.keys():\n",
    "                    print(f'{(n_curr, n_next, truck_key)} in x_sol.keys()')\n",
    "            # if (n_curr, n_next) in edge_shortest.keys() and (n_curr, n_next, truck_key) in x_sol.keys():\n",
    "                    i=0\n",
    "                    if x_sol[(n_curr, n_next, truck_key)]== 1:\n",
    "\n",
    "                        print(f'[{truck_key}: {n_curr, n_next}, x^k_ij = 1')\n",
    "                        n_curr = n_next\n",
    "                    i+=1\n",
    "                    if i >100:\n",
    "                        manual_stop()\n",
    "        \n",
    "\n",
    "check_ini_sol(DATA_DIR)"
   ]
  },
  {
   "cell_type": "code",
   "execution_count": null,
   "metadata": {},
   "outputs": [],
   "source": []
  }
 ],
 "metadata": {
  "kernelspec": {
   "display_name": "Python 3 (ipykernel)",
   "language": "python",
   "name": "python3"
  },
  "language_info": {
   "codemirror_mode": {
    "name": "ipython",
    "version": 3
   },
   "file_extension": ".py",
   "mimetype": "text/x-python",
   "name": "python",
   "nbconvert_exporter": "python",
   "pygments_lexer": "ipython3",
   "version": "3.8.13"
  },
  "vscode": {
   "interpreter": {
    "hash": "c1990874c5d43c5ad255fb4eddb2910398111b9d51d69584c4b5152ab9b533bb"
   }
  }
 },
 "nbformat": 4,
 "nbformat_minor": 2
}
