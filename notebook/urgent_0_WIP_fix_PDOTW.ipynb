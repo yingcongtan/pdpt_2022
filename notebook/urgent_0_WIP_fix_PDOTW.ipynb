{
 "cells": [
  {
   "cell_type": "code",
   "execution_count": 1,
   "metadata": {},
   "outputs": [],
   "source": [
    "import os, sys, random, time\n",
    "src_dir_ = '/home/tan/Documents/GitHub/pdpt_2022/src'\n",
    "sys.path.insert(1, src_dir_)\n",
    "\n",
    "from util import read_pickle\n",
    "\n",
    "dir_ = '/home/tan/Documents/GitHub/pdpt_2022/'\n",
    "case_num=1\n",
    "seed = 0"
   ]
  },
  {
   "cell_type": "code",
   "execution_count": null,
   "metadata": {},
   "outputs": [],
   "source": [
    "def recompute_at_dt_pdotw(pdpt_ins, truck_route, created_truck_yCycle, A_sol, Ab_sol, D_sol, Db_sol):\n",
    "    edge_shortest = pdpt_ins['edge_shortest']\n",
    "    constant = pdpt_ins['constant']\n",
    "    cargo_list = pdpt_ins['cargo']\n",
    "    truck_list = pdpt_ins['truck'] # truck['nb_truck'] = ['departure_node', 'arrival_node', 'max_worktime', 'max_capacity']\n",
    "\n",
    "\n",
    "    for truck_key, route_ in truck_route.items():\n",
    "        for node_idx in range(1, len(route)-1):\n",
    "            node_curr, node_pre = route[node_idx], route[node_idx-1]\n",
    "            # AT[curr_node] = DT[prev_node] + edge[pre_node, curr_node]\n",
    "            A_sol[(node_curr, truck_)] = D[(node_pre, truck_)] + edge_shortest[(node_pre, node_curr)]\n",
    "\n",
    "            if truck_key in created_truck_yCycle.keys():  # if truck returns back to depot\n",
    "                if node_curr == created_truck_yCycle[truck_][1]: # if node_curr is its destination\n",
    "                    Db[(node_curr, truck_key)] = Ab[(node_curr, truck_key)] + constant['node_fixed_time']\n",
    "                    for cargo_key, cargo_route_pair in cargo_route.values():\n",
    "                        if truck_key in [route_pair[0] for route_pair in cargo_route_pair]:\n",
    "                            Db[(node_curr, truck_key)] += int(np.ceil(constant['loading_variation_coefficient']*cargo_list[cargo_key][0]))\n",
    "                    assert Db[(node_curr, truck_key)] <= truck_list[truck_key][-2]\n",
    "                else:\n",
    "                    D[(node_curr, truck_key)] = A[(node_curr, truck_key)] + constant['node_fixed_time']\n",
    "                    for cargo_key, cargo_route_pair in cargo_route.values():\n",
    "                        if truck_key in [route_pair[0] for route_pair in cargo_route_pair]:\n",
    "                            D[(node_curr, truck_key)] += int(np.ceil(constant['loading_variation_coefficient']*cargo_list[cargo_key][0]))\n",
    "                    assert D[(node_curr, truck_key)] <= truck_list[truck_key][-2]\n",
    "            # if truck_ is a non-cycle truck\n",
    "            else:\n",
    "                D[(node_curr, truck_key)] = A[(node_curr, truck_key)] + constant['node_fixed_time']\n",
    "                for cargo_key, cargo_route_pair in cargo_route.values():\n",
    "                    if truck_key in [route_pair[0] for route_pair in cargo_route_pair]:\n",
    "                        D[(node_curr, truck_key)] += int(np.ceil(constant['loading_variation_coefficient']*cargo_list[cargo_key][0]))\n",
    "                assert D[(node_curr, truck_key)] <= truck_list[truck_key][-2]\n",
    "\n",
    "        \n",
    "        assert D[(route_[-1], truck_key)] <= truck_list[truck_key][-2]\n",
    "        assert Db[(route_[-1], truck_key)] <= truck_list[truck_key][-2]\n",
    "\n",
    "    return A_sol, Ab_sol, D_sol, Db_sol\n"
   ]
  }
 ],
 "metadata": {
  "kernelspec": {
   "display_name": "Python 3.8.13 ('py38')",
   "language": "python",
   "name": "python3"
  },
  "language_info": {
   "codemirror_mode": {
    "name": "ipython",
    "version": 3
   },
   "file_extension": ".py",
   "mimetype": "text/x-python",
   "name": "python",
   "nbconvert_exporter": "python",
   "pygments_lexer": "ipython3",
   "version": "3.8.13"
  },
  "orig_nbformat": 4,
  "vscode": {
   "interpreter": {
    "hash": "c1990874c5d43c5ad255fb4eddb2910398111b9d51d69584c4b5152ab9b533bb"
   }
  }
 },
 "nbformat": 4,
 "nbformat_minor": 2
}
