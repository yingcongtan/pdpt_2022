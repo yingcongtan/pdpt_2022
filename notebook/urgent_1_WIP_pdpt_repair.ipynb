{
 "cells": [
  {
   "cell_type": "code",
   "execution_count": 33,
   "metadata": {},
   "outputs": [],
   "source": [
    "import sys, os\n",
    "\n",
    "src_dir_ = '/home/tan/Documents/GitHub/pdpt_2022/src'\n",
    "sys.path.insert(1, src_dir_)\n",
    "\n",
    "from util import read_pickle\n",
    "\n",
    "dir_ = '/home/tan/Documents/GitHub/pdpt_2022/'\n",
    "case_num=1"
   ]
  },
  {
   "cell_type": "code",
   "execution_count": 36,
   "metadata": {},
   "outputs": [],
   "source": [
    "\n",
    "ini_sol_file = os.path.join(dir_, 'out','iniSol', f'case{case_num}_iniSol.pkl')\n",
    "pdpt_ins_file = os.path.join(dir_, 'data', f'case{case_num}.pkl')\n",
    "\n",
    "pdpt_ins = read_pickle(pdpt_ins_file)\n",
    "ini_sol = read_pickle(ini_sol_file)\n",
    "\n",
    "truck_list = pdpt_ins['truck']\n",
    "edge_shortest = pdpt_ins['edge_shortest']\n"
   ]
  },
  {
   "cell_type": "code",
   "execution_count": 35,
   "metadata": {},
   "outputs": [],
   "source": [
    "truck_route = ini_sol['route']['truck_route']\n",
    "cargo_route = ini_sol['route']['cargo_route']\n",
    "S_sol = ini_sol['MIP']['S_sol']\n",
    "A_sol = ini_sol['MIP']['A_sol']\n",
    "D_sol = ini_sol['MIP']['D_sol']\n",
    "\n",
    "\n",
    "Sb_sol = ini_sol['MIP']['Sb_sol']\n",
    "Ab_sol = ini_sol['MIP']['Ab_sol']\n",
    "Db_sol = ini_sol['MIP']['Db_sol']"
   ]
  },
  {
   "cell_type": "code",
   "execution_count": 26,
   "metadata": {},
   "outputs": [
    {
     "name": "stdout",
     "output_type": "stream",
     "text": [
      "['N11', 'N7', 'N20', 'N14', 'N16', 'N17', 'N23']\n"
     ]
    }
   ],
   "source": [
    "print(truck_route['T18'])"
   ]
  },
  {
   "cell_type": "code",
   "execution_count": 30,
   "metadata": {},
   "outputs": [],
   "source": [
    "truck_key = 'T18'\n",
    "\n",
    "for key, value in D_sol.items():\n",
    "    node_key, t_key = key\n",
    "    if t_key == truck_key and node_key in truck_route[truck_key]:\n",
    "        t_o, t_d, t_hr, t_cap = pdpt_ins['truck'][truck_key]\n",
    "        if value < D_sol[(t_o, truck_key)]:\n",
    "            print(f'D_sol[({t_o}, {truck_key})]: {D_sol[(t_o, truck_key)]}')\n",
    "            print(f'D_sol[({node_key}, {truck_key})]: {D_sol[(node_key, truck_key)]}')\n",
    "        if t_hr < D_sol[(t_d, truck_key)] - D_sol[(t_o, truck_key)]:\n",
    "            print('D_sol[(t_d, truck_key)] - D_sol[(t_o, truck_key)] > t_hr' )\n",
    "            print(f'D_sol[({t_o}, {truck_key})]: {D_sol[(t_o, truck_key)]}')\n",
    "            print(f'D_sol[({t_d}, {truck_key})]: {D_sol[(t_d, truck_key)]}')\n"
   ]
  },
  {
   "cell_type": "code",
   "execution_count": 41,
   "metadata": {},
   "outputs": [
    {
     "name": "stdout",
     "output_type": "stream",
     "text": [
      "108\n",
      "367\n",
      "\n",
      "367\n",
      "487\n",
      "\n",
      "487\n",
      "817\n",
      "\n",
      "780 780\n",
      "780 780\n",
      "780 780\n",
      "780 780\n",
      "780 780\n",
      "780 780\n",
      "780 780\n",
      "780 780\n",
      "780 780\n",
      "780 780\n",
      "709 709\n",
      "780 780\n",
      "780 780\n",
      "780 780\n",
      "780 780\n",
      "780 780\n",
      "780 780\n",
      "780 780\n",
      "780 780\n",
      "780 780\n",
      "780 780\n"
     ]
    }
   ],
   "source": [
    "truck_key = 'T11'\n",
    "\n",
    "\n",
    "for n_idx in range(len(truck_route[truck_key])-1):\n",
    "    print(D_sol[(truck_route[truck_key][n_idx], truck_key)])\n",
    "    print(D_sol[(truck_route[truck_key][n_idx+1], truck_key)])\n",
    "    print()\n",
    "\n",
    "\n",
    "for truck_key in truck_list.keys():\n",
    "    print(D_sol[(truck_list[truck_key][1], truck_key)] - D_sol[(truck_list[truck_key][0], truck_key)], truck_list[truck_key][-2])\n",
    "\n"
   ]
  },
  {
   "cell_type": "code",
   "execution_count": null,
   "metadata": {},
   "outputs": [],
   "source": []
  }
 ],
 "metadata": {
  "kernelspec": {
   "display_name": "Python 3.8.13 ('py38')",
   "language": "python",
   "name": "python3"
  },
  "language_info": {
   "codemirror_mode": {
    "name": "ipython",
    "version": 3
   },
   "file_extension": ".py",
   "mimetype": "text/x-python",
   "name": "python",
   "nbconvert_exporter": "python",
   "pygments_lexer": "ipython3",
   "version": "3.8.13"
  },
  "orig_nbformat": 4,
  "vscode": {
   "interpreter": {
    "hash": "c1990874c5d43c5ad255fb4eddb2910398111b9d51d69584c4b5152ab9b533bb"
   }
  }
 },
 "nbformat": 4,
 "nbformat_minor": 2
}
