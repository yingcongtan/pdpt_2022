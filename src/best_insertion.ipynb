{
 "cells": [
  {
   "cell_type": "code",
   "execution_count": 1,
   "metadata": {},
   "outputs": [],
   "source": [
    "from util import calculate_truck_travel_cost, read_pdpt_pickle, read_route_solution_PDPT\n",
    "\n",
    "DATA_DIR = '/home/tan/Documents/PDPT_src'"
   ]
  },
  {
   "cell_type": "code",
   "execution_count": 4,
   "metadata": {},
   "outputs": [],
   "source": [
    "\n",
    "\n",
    "def evl_pdotw_sol(dir, case_num, pdotw_sol):\n",
    "    ins = read_pdpt_pickle(case_num, dir+'/data', verbose = 0)\n",
    "    constant = ins['constant']\n",
    "    nodes = ins['nodes']\n",
    "    edges = ins['edges']\n",
    "    edge_shortest = ins['edge_shortest']\n",
    "    truck_yCycle_file, truck_used_file, truck_route_file, \\\n",
    "    cargo_route_file, S_sol_file, A_sol_file, D_sol_file, \\\n",
    "    Sb_sol_file, Ab_sol_file, Db_sol_file = read_route_solution_PDPT(pdotw_sol, verbose = 0)\n",
    "\n",
    "\n",
    "    truck_cost, travel_cost = \\\n",
    "    calculate_truck_travel_cost(constant, edge_shortest,\n",
    "    truck_used_file, truck_route_file)"
   ]
  },
  {
   "cell_type": "code",
   "execution_count": 7,
   "metadata": {},
   "outputs": [
    {
     "name": "stdout",
     "output_type": "stream",
     "text": [
      "==== CALCULATE COST CASE 1====\n",
      "\tThe truck_cost based on the PDPT solution: 630000.0\n",
      "\tThe travel cost based on the PDPT solution: 556300.0\n",
      "\tThe total cost: 1186300.0\n",
      "========\n",
      "\n",
      "==== CALCULATE COST CASE 2====\n",
      "\tThe truck_cost based on the PDPT solution: 390000.0\n",
      "\tThe travel cost based on the PDPT solution: 362200.0\n",
      "\tThe total cost: 752200.0\n",
      "========\n",
      "\n",
      "==== CALCULATE COST CASE 3====\n",
      "\tThe truck_cost based on the PDPT solution: 420000.0\n",
      "\tThe travel cost based on the PDPT solution: 420850.0\n",
      "\tThe total cost: 840850.0\n",
      "========\n",
      "\n",
      "==== CALCULATE COST CASE 4====\n",
      "\tThe truck_cost based on the PDPT solution: 510000.0\n",
      "\tThe travel cost based on the PDPT solution: 461650.0\n",
      "\tThe total cost: 971650.0\n",
      "========\n",
      "\n",
      "==== CALCULATE COST CASE 5====\n",
      "\tThe truck_cost based on the PDPT solution: 600000.0\n",
      "\tThe travel cost based on the PDPT solution: 532350.0\n",
      "\tThe total cost: 1132350.0\n",
      "========\n",
      "\n"
     ]
    }
   ],
   "source": [
    "case_num=3\n",
    "filename = DATA_DIR + f'/out/case{case_num}initSol.txt'\n",
    "\n",
    "for case_num in range(1,6,1):\n",
    "    print(f'==== CALCULATE COST CASE {case_num}====')\n",
    "    pdotw_sol = DATA_DIR + f'/out/case{case_num}initSol.txt'\n",
    "    evl_pdotw_sol(DATA_DIR, case_num, pdotw_sol)\n",
    "    print('========\\n')"
   ]
  },
  {
   "cell_type": "code",
   "execution_count": null,
   "metadata": {},
   "outputs": [],
   "source": []
  }
 ],
 "metadata": {
  "kernelspec": {
   "display_name": "Python 3.8.13 ('py38')",
   "language": "python",
   "name": "python3"
  },
  "language_info": {
   "codemirror_mode": {
    "name": "ipython",
    "version": 3
   },
   "file_extension": ".py",
   "mimetype": "text/x-python",
   "name": "python",
   "nbconvert_exporter": "python",
   "pygments_lexer": "ipython3",
   "version": "3.8.13"
  },
  "orig_nbformat": 4,
  "vscode": {
   "interpreter": {
    "hash": "c1990874c5d43c5ad255fb4eddb2910398111b9d51d69584c4b5152ab9b533bb"
   }
  }
 },
 "nbformat": 4,
 "nbformat_minor": 2
}
